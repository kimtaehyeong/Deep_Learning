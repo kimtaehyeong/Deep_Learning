{
 "cells": [
  {
   "cell_type": "code",
   "execution_count": 1,
   "metadata": {},
   "outputs": [
    {
     "name": "stdout",
     "output_type": "stream",
     "text": [
      "Requirement already satisfied: nltk in c:\\users\\kimta\\anaconda3\\lib\\site-packages (3.4)\n",
      "Requirement already satisfied: six in c:\\users\\kimta\\anaconda3\\lib\\site-packages (from nltk) (1.12.0)\n",
      "Requirement already satisfied: singledispatch in c:\\users\\kimta\\anaconda3\\lib\\site-packages (from nltk) (3.4.0.3)\n",
      "Note: you may need to restart the kernel to use updated packages.\n"
     ]
    }
   ],
   "source": [
    "# nltk install\n",
    "pip install nltk "
   ]
  },
  {
   "cell_type": "code",
   "execution_count": 2,
   "metadata": {},
   "outputs": [
    {
     "name": "stdout",
     "output_type": "stream",
     "text": [
      "showing info https://raw.githubusercontent.com/nltk/nltk_data/gh-pages/index.xml\n"
     ]
    },
    {
     "data": {
      "text/plain": [
       "True"
      ]
     },
     "execution_count": 2,
     "metadata": {},
     "output_type": "execute_result"
    }
   ],
   "source": [
    "# all download\n",
    "import nltk\n",
    "nltk.download()"
   ]
  },
  {
   "cell_type": "code",
   "execution_count": null,
   "metadata": {},
   "outputs": [],
   "source": []
  },
  {
   "cell_type": "markdown",
   "metadata": {},
   "source": [
    "## 단어 단위 토크나이징(word unit tokenizing)"
   ]
  },
  {
   "cell_type": "code",
   "execution_count": 3,
   "metadata": {},
   "outputs": [
    {
     "name": "stdout",
     "output_type": "stream",
     "text": [
      "['I', 'love', 'korea', ',', 'Korea', '.', 'Nice', 'to', 'meet', 'you']\n",
      "[('I', 'PRP'), ('love', 'VBP'), ('korea', 'NN'), (',', ','), ('Korea', 'NNP'), ('.', '.'), ('Nice', 'NNP'), ('to', 'TO'), ('meet', 'VB'), ('you', 'PRP')]\n"
     ]
    }
   ],
   "source": [
    "from nltk import word_tokenize\n",
    " \n",
    "tokens = word_tokenize(\"I love korea, Korea. Nice to meet you\") \n",
    "print( tokens ) # tokenizing\n",
    "print( nltk.pos_tag(tokens)) #pos_tag를 이용하여 다양한 함수 제공한다."
   ]
  },
  {
   "cell_type": "code",
   "execution_count": 4,
   "metadata": {},
   "outputs": [
    {
     "name": "stdout",
     "output_type": "stream",
     "text": [
      "['The', 'science', 'that', 'studies', 'atmospheric', 'phenomena', ',', 'with', 'a', 'particular', 'focus', 'on', 'forecasting', 'variations', 'in', 'weather', '.']\n",
      "[('The', 'DT'), ('science', 'NN'), ('that', 'IN'), ('studies', 'NNS'), ('atmospheric', 'JJ'), ('phenomena', 'NNS'), (',', ','), ('with', 'IN'), ('a', 'DT'), ('particular', 'JJ'), ('focus', 'NN'), ('on', 'IN'), ('forecasting', 'VBG'), ('variations', 'NNS'), ('in', 'IN'), ('weather', 'NN'), ('.', '.')]\n"
     ]
    }
   ],
   "source": [
    "# http://www.ikonet.com/en/visualdictionary/earth/ 문장 이용\n",
    "sentence = \"\"\"The science that studies atmospheric phenomena, with a particular focus on forecasting variations in weather.\"\"\"\n",
    "tokens =  word_tokenize(sentence)\n",
    "print( tokens )\n",
    "print( nltk.pos_tag(tokens))"
   ]
  },
  {
   "cell_type": "markdown",
   "metadata": {},
   "source": [
    "## 문장  단위 토크나이징"
   ]
  },
  {
   "cell_type": "code",
   "execution_count": 5,
   "metadata": {},
   "outputs": [],
   "source": [
    "from nltk import sent_tokenize "
   ]
  },
  {
   "cell_type": "code",
   "execution_count": 6,
   "metadata": {},
   "outputs": [
    {
     "name": "stdout",
     "output_type": "stream",
     "text": [
      "['Due to the mounting tension, \\n             the leaders of Korea and Japan have not been able to hold a bilateral summit for some time.', 'But some expectations are that there would be an annually held trilateral summit between the leaders of South Korea, \\n             Japan and China which could lead to a possible diplomatic breakthrough.']\n"
     ]
    }
   ],
   "source": [
    "# https://www.koreatimes.co.kr/www/nation/2019/08/356_273434.html\n",
    "\n",
    "news = \"\"\"Due to the mounting tension, \n",
    "             the leaders of Korea and Japan have not been able to hold a bilateral summit for some time. \n",
    "             But some expectations are that there would be an annually held trilateral summit between the leaders of South Korea, \n",
    "             Japan and China which could lead to a possible diplomatic breakthrough. \"\"\"\n",
    "\n",
    "print ( sent_tokenize(news))"
   ]
  },
  {
   "cell_type": "code",
   "execution_count": null,
   "metadata": {},
   "outputs": [],
   "source": []
  }
 ],
 "metadata": {
  "kernelspec": {
   "display_name": "Python 3",
   "language": "python",
   "name": "python3"
  },
  "language_info": {
   "codemirror_mode": {
    "name": "ipython",
    "version": 3
   },
   "file_extension": ".py",
   "mimetype": "text/x-python",
   "name": "python",
   "nbconvert_exporter": "python",
   "pygments_lexer": "ipython3",
   "version": "3.6.8"
  }
 },
 "nbformat": 4,
 "nbformat_minor": 4
}
