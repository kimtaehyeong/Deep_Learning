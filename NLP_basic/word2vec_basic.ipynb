{
 "cells": [
  {
   "cell_type": "code",
   "execution_count": null,
   "metadata": {},
   "outputs": [],
   "source": [
    "from gensim.models import word2vec\n",
    "\n",
    "data = word2vec.Text8Corpus('data/wiki.m')  \n",
    "model = word2vec.Word2Vec(data, size = 100) #100차원\n",
    "model.save('model/wiki_model.model')  "
   ]
  },
  {
   "cell_type": "code",
   "execution_count": null,
   "metadata": {},
   "outputs": [],
   "source": [
    "from gensim.models import word2vec\n",
    "model = word2vec.Word2Vec.load('model/wiki_model.model')\n",
    "\n",
    "result =model.most_similar(positive=['아빠','여성'],negative=['남성'])\n",
    "print(result)\n",
    "print(result[0]) # 엄마\n",
    "\n",
    "\n",
    "result =model.most_similar(positive=['서울','일본'],negative=['한국'])\n",
    "print(result)\n",
    "print(result[0]) # 도쿄\n",
    "\n",
    "\n",
    "result =model.most_similar(positive=['서울','중국'],negative=['한국'])\n",
    "print(result)\n",
    "print(result[0]) # 베이징\n",
    "\n",
    "\n",
    "result =model.most_similar(positive=['오른쪽','남자'],negative=['왼쪽'])\n",
    "print(result)\n",
    "print(result[0]) # 여자\n",
    "\n",
    "\n",
    "result =model.most_similar(positive=['서울','맛집'])\n",
    "print(result)\n",
    "print(result[0]) # 강남\n",
    "\n",
    "\n",
    "result =model.most_similar(positive=['유재석'])\n",
    "print(result[0]) # 강호동\n",
    "\n",
    "result =model.most_similar(positive=['왼쪽'])\n",
    "print(result[0]) # 오른쪽\n",
    "\n",
    "\n",
    "result =model.most_similar(positive=['여학생','남자'],negative=['여자'])\n",
    "print(result)\n",
    "print(result[0]) # 남학생\n",
    "\n",
    "\n",
    "result =model.most_similar(positive=['걷기','수영'],negative=['여자'])\n",
    "print(result)\n",
    "print(result[0]) # 하이킹\n",
    "\n",
    "\n",
    "result =model.most_similar(positive=['유재석','강호동'])\n",
    "print(result[0]) # 노홍철"
   ]
  }
 ],
 "metadata": {
  "kernelspec": {
   "display_name": "Python 3",
   "language": "python",
   "name": "python3"
  },
  "language_info": {
   "codemirror_mode": {
    "name": "ipython",
    "version": 3
   },
   "file_extension": ".py",
   "mimetype": "text/x-python",
   "name": "python",
   "nbconvert_exporter": "python",
   "pygments_lexer": "ipython3",
   "version": "3.6.8"
  }
 },
 "nbformat": 4,
 "nbformat_minor": 4
}
