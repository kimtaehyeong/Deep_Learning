{
 "cells": [
  {
   "cell_type": "code",
   "execution_count": 2,
   "metadata": {},
   "outputs": [
    {
     "name": "stdout",
     "output_type": "stream",
     "text": [
      "['형태소', '분석']\n"
     ]
    }
   ],
   "source": [
    "from konlpy.tag import Kkma\n",
    "kokoma = Kkma()\n",
    "nouns = kokoma.nouns('형태소 분석입니다.')\n",
    "print(nouns)"
   ]
  },
  {
   "cell_type": "code",
   "execution_count": 3,
   "metadata": {},
   "outputs": [
    {
     "name": "stderr",
     "output_type": "stream",
     "text": [
      "C:\\Users\\kimta\\Anaconda3\\lib\\site-packages\\konlpy\\tag\\_okt.py:16: UserWarning: \"Twitter\" has changed to \"Okt\" since KoNLPy v0.4.5.\n",
      "  warn('\"Twitter\" has changed to \"Okt\" since KoNLPy v0.4.5.')\n"
     ]
    },
    {
     "name": "stdout",
     "output_type": "stream",
     "text": [
      "['미카', '형태소', '분석']\n"
     ]
    }
   ],
   "source": [
    "from konlpy.tag import Twitter\n",
    "nlp=Twitter()\n",
    "\n",
    "nouns = nlp.nouns('미카이 입니다. 형태소 분석을 합시다')\n",
    "print(nouns)"
   ]
  },
  {
   "cell_type": "code",
   "execution_count": 4,
   "metadata": {},
   "outputs": [
    {
     "name": "stdout",
     "output_type": "stream",
     "text": [
      "['단독', '입찰', '보다', '복수', '입찰', '의', '경우']\n",
      "['항공기', '체계', '종합', '개발', '경험']\n",
      "['날카로운 분석', '날카로운 분석과 신뢰감', '날카로운 분석과 신뢰감 있는 진행', '분석', '신뢰', '진행']\n",
      "[('이', 'Determiner'), ('것', 'Noun'), ('도', 'Josa'), ('되겠죸', 'Noun'), ('ㅋㅋ', 'KoreanParticle')]\n",
      "[('이', 'Determiner'), ('것', 'Noun'), ('도', 'Josa'), ('되나요', 'Verb'), ('ㅋㅋ', 'KoreanParticle')]\n",
      "[('이', 'Determiner'), ('것', 'Noun'), ('도', 'Josa'), ('되다', 'Verb'), ('ㅋㅋ', 'KoreanParticle')]\n"
     ]
    }
   ],
   "source": [
    "from konlpy.tag import Okt #Twitter\n",
    "okt = Okt()\n",
    "print(okt.morphs('단독입찰보다 복수입찰의 경우')) # 최소의 단위로 뽑아낸다. 조사 어미 등 다 나온다.\n",
    "#['단독', '입찰', '보다', '복수', '입찰', '의', '경우']\n",
    "print(okt.nouns('유일하게 항공기 체계 종합개발 경험을 갖고 있는 KAI 는')) # 단어만\n",
    "#['항공기', '체계', '종합', '개발', '경험']\n",
    "\n",
    "print(okt.phrases('날카로운 분석과 신뢰감 있는 진행으로')) # 어절을 뽑아낸다.\n",
    "#['날카로운 분석', '날카로운 분석과 신뢰감', '날카로운 분석과 신뢰감 있는 진행', '분석', '신뢰', '진행']\n",
    "\n",
    "print(okt.pos('이것도 되겠죸ㅋㅋ')) #품사가 같이 나와서 유용하게 원하는 부분만 뽑아서 사용가능 하다.\n",
    "#[('이', 'Determiner'), ('것', 'Noun'), ('도', 'Josa'), ('되겠죸', 'Noun'), ('ㅋㅋ', 'KoreanParticle')]\n",
    "\n",
    "print(okt.pos('이것도 되나욬ㅋㅋ', norm=True)) # norm 정규화 시킬 수 있다.\n",
    "#[('이', 'Determiner'), ('것', 'Noun'), ('도', 'Josa'), ('되나요', 'Verb'), ('ㅋㅋ','KoreanParticle')]\n",
    "\n",
    "print(okt.pos('이것도 되나욬ㅋㅋ', norm=True, stem=True)) # 동사를 기본형으로 바꿀수도 있다.\n",
    "#[('이', 'Determiner'), ('것', 'Noun'), ('도', 'Josa'), ('되다', 'Verb'), ('ㅋㅋ','KoreanParticle')]"
   ]
  },
  {
   "cell_type": "code",
   "execution_count": null,
   "metadata": {},
   "outputs": [],
   "source": []
  }
 ],
 "metadata": {
  "kernelspec": {
   "display_name": "Python 3",
   "language": "python",
   "name": "python3"
  },
  "language_info": {
   "codemirror_mode": {
    "name": "ipython",
    "version": 3
   },
   "file_extension": ".py",
   "mimetype": "text/x-python",
   "name": "python",
   "nbconvert_exporter": "python",
   "pygments_lexer": "ipython3",
   "version": "3.6.8"
  }
 },
 "nbformat": 4,
 "nbformat_minor": 4
}
