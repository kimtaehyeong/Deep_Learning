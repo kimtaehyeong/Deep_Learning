{
 "cells": [
  {
   "cell_type": "code",
   "execution_count": 1,
   "metadata": {},
   "outputs": [],
   "source": [
    "# Unofficial implementation of RAdam in Keras and TensorFlow.\n",
    "# https://github.com/CyberZHG/keras-radam\n",
    "# pip install keras-rectified-adam"
   ]
  },
  {
   "cell_type": "code",
   "execution_count": 2,
   "metadata": {},
   "outputs": [
    {
     "name": "stderr",
     "output_type": "stream",
     "text": [
      "Using TensorFlow backend.\n"
     ]
    }
   ],
   "source": [
    "# import packages\n",
    "import numpy as np\n",
    "import matplotlib.pyplot as plt\n",
    "from keras_radam import RAdam\n",
    "from keras.datasets import mnist\n",
    "from keras.utils import to_categorical\n",
    "from keras.models import Sequential\n",
    "from keras.layers import Dense"
   ]
  },
  {
   "cell_type": "code",
   "execution_count": 3,
   "metadata": {},
   "outputs": [],
   "source": [
    "# data load (MNIST)\n",
    "(x_train, y_train), (x_test, y_test) = mnist.load_data()"
   ]
  },
  {
   "cell_type": "code",
   "execution_count": 4,
   "metadata": {},
   "outputs": [
    {
     "data": {
      "text/plain": [
       "((60000, 28, 28), (60000,), (10000, 28, 28), (10000,))"
      ]
     },
     "execution_count": 4,
     "metadata": {},
     "output_type": "execute_result"
    }
   ],
   "source": [
    "# data shape\n",
    "x_train.shape, y_train.shape, x_test.shape, y_test.shape"
   ]
  },
  {
   "cell_type": "code",
   "execution_count": 5,
   "metadata": {},
   "outputs": [],
   "source": [
    "# data preprocessing\n",
    "x_train = x_train.reshape(-1, 28*28)/255.\n",
    "x_test = x_test.reshape(-1, 28*28)/255.\n",
    "\n",
    "# one-hot-encoding\n",
    "y_train = to_categorical(y_train) \n",
    "y_test = to_categorical(y_test)"
   ]
  },
  {
   "cell_type": "code",
   "execution_count": 17,
   "metadata": {},
   "outputs": [
    {
     "name": "stdout",
     "output_type": "stream",
     "text": [
      "_________________________________________________________________\n",
      "Layer (type)                 Output Shape              Param #   \n",
      "=================================================================\n",
      "dense_11 (Dense)             (None, 64)                50240     \n",
      "_________________________________________________________________\n",
      "dense_12 (Dense)             (None, 16)                1040      \n",
      "_________________________________________________________________\n",
      "dense_13 (Dense)             (None, 10)                170       \n",
      "=================================================================\n",
      "Total params: 51,450\n",
      "Trainable params: 51,450\n",
      "Non-trainable params: 0\n",
      "_________________________________________________________________\n"
     ]
    }
   ],
   "source": [
    "model = Sequential()\n",
    "model.add(Dense(64, activation='relu', input_shape=(784,)))\n",
    "model.add(Dense(16, activation='relu'))\n",
    "model.add(Dense(10, activation='softmax'))\n",
    "model.compile(loss='categorical_crossentropy', optimizer=RAdam(), metrics=['acc'])\n",
    "model.summary()"
   ]
  },
  {
   "cell_type": "code",
   "execution_count": 19,
   "metadata": {},
   "outputs": [
    {
     "name": "stdout",
     "output_type": "stream",
     "text": [
      "Train on 48000 samples, validate on 12000 samples\n",
      "Epoch 1/50\n",
      "48000/48000 [==============================] - 108s 2ms/step - loss: 1.2388 - acc: 0.5884 - val_loss: 0.4147 - val_acc: 0.8907\n",
      "Epoch 2/50\n",
      "48000/48000 [==============================] - 2s 33us/step - loss: 0.3348 - acc: 0.9077 - val_loss: 0.2503 - val_acc: 0.9282\n",
      "Epoch 3/50\n",
      "48000/48000 [==============================] - 2s 36us/step - loss: 0.2362 - acc: 0.9328 - val_loss: 0.2126 - val_acc: 0.9387\n",
      "Epoch 4/50\n",
      "48000/48000 [==============================] - 2s 39us/step - loss: 0.1916 - acc: 0.9451 - val_loss: 0.1771 - val_acc: 0.9503\n",
      "Epoch 5/50\n",
      "48000/48000 [==============================] - 2s 36us/step - loss: 0.1618 - acc: 0.9530 - val_loss: 0.1573 - val_acc: 0.9542\n",
      "Epoch 6/50\n",
      "48000/48000 [==============================] - 2s 35us/step - loss: 0.1389 - acc: 0.9601 - val_loss: 0.1465 - val_acc: 0.9591\n",
      "Epoch 7/50\n",
      "48000/48000 [==============================] - 2s 32us/step - loss: 0.1221 - acc: 0.9639 - val_loss: 0.1422 - val_acc: 0.9580\n",
      "Epoch 8/50\n",
      "48000/48000 [==============================] - 2s 32us/step - loss: 0.1062 - acc: 0.9689 - val_loss: 0.1367 - val_acc: 0.9611\n",
      "Epoch 9/50\n",
      "48000/48000 [==============================] - 2s 31us/step - loss: 0.0940 - acc: 0.9727 - val_loss: 0.1271 - val_acc: 0.9635\n",
      "Epoch 10/50\n",
      "48000/48000 [==============================] - 2s 32us/step - loss: 0.0834 - acc: 0.9747 - val_loss: 0.1313 - val_acc: 0.9618\n",
      "Epoch 11/50\n",
      "48000/48000 [==============================] - 2s 32us/step - loss: 0.0745 - acc: 0.9774 - val_loss: 0.1191 - val_acc: 0.9652\n",
      "Epoch 12/50\n",
      "48000/48000 [==============================] - 2s 32us/step - loss: 0.0676 - acc: 0.9796 - val_loss: 0.1134 - val_acc: 0.9678\n",
      "Epoch 13/50\n",
      "48000/48000 [==============================] - 2s 32us/step - loss: 0.0604 - acc: 0.9825 - val_loss: 0.1188 - val_acc: 0.9668\n",
      "Epoch 14/50\n",
      "48000/48000 [==============================] - 2s 32us/step - loss: 0.0551 - acc: 0.9842 - val_loss: 0.1153 - val_acc: 0.9662\n",
      "Epoch 15/50\n",
      "48000/48000 [==============================] - 2s 32us/step - loss: 0.0494 - acc: 0.9848 - val_loss: 0.1084 - val_acc: 0.9693\n",
      "Epoch 16/50\n",
      "48000/48000 [==============================] - 1s 31us/step - loss: 0.0445 - acc: 0.9871 - val_loss: 0.1121 - val_acc: 0.9684\n",
      "Epoch 17/50\n",
      "48000/48000 [==============================] - 1s 31us/step - loss: 0.0405 - acc: 0.9878 - val_loss: 0.1099 - val_acc: 0.9692\n",
      "Epoch 18/50\n",
      "48000/48000 [==============================] - 2s 32us/step - loss: 0.0363 - acc: 0.9897 - val_loss: 0.1141 - val_acc: 0.9685\n",
      "Epoch 19/50\n",
      "48000/48000 [==============================] - 1s 31us/step - loss: 0.0335 - acc: 0.9907 - val_loss: 0.1126 - val_acc: 0.9688\n",
      "Epoch 20/50\n",
      "48000/48000 [==============================] - 2s 31us/step - loss: 0.0301 - acc: 0.9915 - val_loss: 0.1141 - val_acc: 0.9691\n",
      "Epoch 21/50\n",
      "48000/48000 [==============================] - 1s 31us/step - loss: 0.0263 - acc: 0.9931 - val_loss: 0.1247 - val_acc: 0.9675\n",
      "Epoch 22/50\n",
      "48000/48000 [==============================] - 2s 31us/step - loss: 0.0237 - acc: 0.9935 - val_loss: 0.1175 - val_acc: 0.9688\n",
      "Epoch 23/50\n",
      "48000/48000 [==============================] - 1s 31us/step - loss: 0.0231 - acc: 0.9936 - val_loss: 0.1261 - val_acc: 0.9683\n",
      "Epoch 24/50\n",
      "48000/48000 [==============================] - 1s 31us/step - loss: 0.0248 - acc: 0.9929 - val_loss: 0.1185 - val_acc: 0.9708\n",
      "Epoch 25/50\n",
      "48000/48000 [==============================] - 1s 31us/step - loss: 0.0180 - acc: 0.9951 - val_loss: 0.1230 - val_acc: 0.9684\n",
      "Epoch 26/50\n",
      "48000/48000 [==============================] - 1s 31us/step - loss: 0.0170 - acc: 0.9958 - val_loss: 0.1245 - val_acc: 0.9699\n",
      "Epoch 27/50\n",
      "48000/48000 [==============================] - 1s 31us/step - loss: 0.0144 - acc: 0.9966 - val_loss: 0.1273 - val_acc: 0.9687\n",
      "Epoch 28/50\n",
      "48000/48000 [==============================] - 2s 32us/step - loss: 0.0131 - acc: 0.9967 - val_loss: 0.1338 - val_acc: 0.9687\n",
      "Epoch 29/50\n",
      "48000/48000 [==============================] - 1s 31us/step - loss: 0.0133 - acc: 0.9965 - val_loss: 0.1385 - val_acc: 0.9684\n",
      "Epoch 30/50\n",
      "48000/48000 [==============================] - 2s 32us/step - loss: 0.0120 - acc: 0.9971 - val_loss: 0.1330 - val_acc: 0.9694\n",
      "Epoch 31/50\n",
      "48000/48000 [==============================] - 1s 31us/step - loss: 0.0100 - acc: 0.9977 - val_loss: 0.1353 - val_acc: 0.9689\n",
      "Epoch 32/50\n",
      "48000/48000 [==============================] - 2s 31us/step - loss: 0.0109 - acc: 0.9971 - val_loss: 0.1441 - val_acc: 0.9700\n",
      "Epoch 33/50\n",
      "48000/48000 [==============================] - 1s 31us/step - loss: 0.0090 - acc: 0.9978 - val_loss: 0.1361 - val_acc: 0.9690\n",
      "Epoch 34/50\n",
      "48000/48000 [==============================] - 2s 31us/step - loss: 0.0101 - acc: 0.9974 - val_loss: 0.1427 - val_acc: 0.9701\n",
      "Epoch 35/50\n",
      "48000/48000 [==============================] - 2s 31us/step - loss: 0.0089 - acc: 0.9976 - val_loss: 0.1437 - val_acc: 0.9712\n",
      "Epoch 36/50\n",
      "48000/48000 [==============================] - 2s 31us/step - loss: 0.0052 - acc: 0.9991 - val_loss: 0.1400 - val_acc: 0.9723\n",
      "Epoch 37/50\n",
      "48000/48000 [==============================] - 2s 32us/step - loss: 0.0043 - acc: 0.9994 - val_loss: 0.1394 - val_acc: 0.9720\n",
      "Epoch 38/50\n",
      "48000/48000 [==============================] - 1s 31us/step - loss: 0.0035 - acc: 0.9996 - val_loss: 0.1477 - val_acc: 0.9703\n",
      "Epoch 39/50\n",
      "48000/48000 [==============================] - 1s 31us/step - loss: 0.0068 - acc: 0.9982 - val_loss: 0.1560 - val_acc: 0.9676\n",
      "Epoch 40/50\n",
      "48000/48000 [==============================] - 2s 32us/step - loss: 0.0110 - acc: 0.9966 - val_loss: 0.1620 - val_acc: 0.9686\n",
      "Epoch 41/50\n",
      "48000/48000 [==============================] - 1s 31us/step - loss: 0.0062 - acc: 0.9985 - val_loss: 0.1580 - val_acc: 0.9705\n",
      "Epoch 42/50\n",
      "48000/48000 [==============================] - 1s 31us/step - loss: 0.0033 - acc: 0.9995 - val_loss: 0.1493 - val_acc: 0.9709\n",
      "Epoch 43/50\n",
      "48000/48000 [==============================] - 2s 31us/step - loss: 0.0023 - acc: 0.9996 - val_loss: 0.1488 - val_acc: 0.9727\n",
      "Epoch 44/50\n",
      "48000/48000 [==============================] - 2s 32us/step - loss: 0.0017 - acc: 0.9999 - val_loss: 0.1592 - val_acc: 0.9716\n",
      "Epoch 45/50\n",
      "48000/48000 [==============================] - 1s 31us/step - loss: 0.0143 - acc: 0.9949 - val_loss: 0.1676 - val_acc: 0.9665\n",
      "Epoch 46/50\n",
      "48000/48000 [==============================] - 1s 31us/step - loss: 0.0109 - acc: 0.9966 - val_loss: 0.1626 - val_acc: 0.9700\n",
      "Epoch 47/50\n",
      "48000/48000 [==============================] - 2s 31us/step - loss: 0.0035 - acc: 0.9993 - val_loss: 0.1522 - val_acc: 0.9725\n",
      "Epoch 48/50\n",
      "48000/48000 [==============================] - 1s 31us/step - loss: 0.0014 - acc: 0.9999 - val_loss: 0.1534 - val_acc: 0.9718\n",
      "Epoch 49/50\n",
      "48000/48000 [==============================] - 1s 31us/step - loss: 8.3722e-04 - acc: 1.0000 - val_loss: 0.1553 - val_acc: 0.9729\n",
      "Epoch 50/50\n",
      "48000/48000 [==============================] - 1s 31us/step - loss: 7.1637e-04 - acc: 1.0000 - val_loss: 0.1548 - val_acc: 0.9731\n"
     ]
    }
   ],
   "source": [
    "# train model\n",
    "history = model.fit(x_train, y_train, batch_size=128, epochs=50, validation_split=0.2)"
   ]
  },
  {
   "cell_type": "code",
   "execution_count": 26,
   "metadata": {},
   "outputs": [
    {
     "data": {
      "image/svg+xml": [
       "<svg height=\"264pt\" viewBox=\"0.00 0.00 119.00 264.00\" width=\"119pt\" xmlns=\"http://www.w3.org/2000/svg\" xmlns:xlink=\"http://www.w3.org/1999/xlink\">\n",
       "<g class=\"graph\" id=\"graph0\" transform=\"scale(1 1) rotate(0) translate(4 260)\">\n",
       "<title>G</title>\n",
       "<polygon fill=\"white\" points=\"-4,4 -4,-260 115,-260 115,4 -4,4\" stroke=\"none\"/>\n",
       "<!-- 2177103165760 -->\n",
       "<g class=\"node\" id=\"node1\"><title>2177103165760</title>\n",
       "<polygon fill=\"none\" points=\"0,-146.5 0,-182.5 111,-182.5 111,-146.5 0,-146.5\" stroke=\"black\"/>\n",
       "<text font-family=\"Times New Roman,serif\" font-size=\"14.00\" text-anchor=\"middle\" x=\"55.5\" y=\"-160.8\">dense_11: Dense</text>\n",
       "</g>\n",
       "<!-- 2177103165928 -->\n",
       "<g class=\"node\" id=\"node2\"><title>2177103165928</title>\n",
       "<polygon fill=\"none\" points=\"0,-73.5 0,-109.5 111,-109.5 111,-73.5 0,-73.5\" stroke=\"black\"/>\n",
       "<text font-family=\"Times New Roman,serif\" font-size=\"14.00\" text-anchor=\"middle\" x=\"55.5\" y=\"-87.8\">dense_12: Dense</text>\n",
       "</g>\n",
       "<!-- 2177103165760&#45;&gt;2177103165928 -->\n",
       "<g class=\"edge\" id=\"edge2\"><title>2177103165760-&gt;2177103165928</title>\n",
       "<path d=\"M55.5,-146.313C55.5,-138.289 55.5,-128.547 55.5,-119.569\" fill=\"none\" stroke=\"black\"/>\n",
       "<polygon fill=\"black\" points=\"59.0001,-119.529 55.5,-109.529 52.0001,-119.529 59.0001,-119.529\" stroke=\"black\"/>\n",
       "</g>\n",
       "<!-- 2177103212896 -->\n",
       "<g class=\"node\" id=\"node3\"><title>2177103212896</title>\n",
       "<polygon fill=\"none\" points=\"0,-0.5 0,-36.5 111,-36.5 111,-0.5 0,-0.5\" stroke=\"black\"/>\n",
       "<text font-family=\"Times New Roman,serif\" font-size=\"14.00\" text-anchor=\"middle\" x=\"55.5\" y=\"-14.8\">dense_13: Dense</text>\n",
       "</g>\n",
       "<!-- 2177103165928&#45;&gt;2177103212896 -->\n",
       "<g class=\"edge\" id=\"edge3\"><title>2177103165928-&gt;2177103212896</title>\n",
       "<path d=\"M55.5,-73.3129C55.5,-65.2895 55.5,-55.5475 55.5,-46.5691\" fill=\"none\" stroke=\"black\"/>\n",
       "<polygon fill=\"black\" points=\"59.0001,-46.5288 55.5,-36.5288 52.0001,-46.5289 59.0001,-46.5288\" stroke=\"black\"/>\n",
       "</g>\n",
       "<!-- 2177103166320 -->\n",
       "<g class=\"node\" id=\"node4\"><title>2177103166320</title>\n",
       "<polygon fill=\"none\" points=\"3.5,-219.5 3.5,-255.5 107.5,-255.5 107.5,-219.5 3.5,-219.5\" stroke=\"black\"/>\n",
       "<text font-family=\"Times New Roman,serif\" font-size=\"14.00\" text-anchor=\"middle\" x=\"55.5\" y=\"-233.8\">2177103166320</text>\n",
       "</g>\n",
       "<!-- 2177103166320&#45;&gt;2177103165760 -->\n",
       "<g class=\"edge\" id=\"edge1\"><title>2177103166320-&gt;2177103165760</title>\n",
       "<path d=\"M55.5,-219.313C55.5,-211.289 55.5,-201.547 55.5,-192.569\" fill=\"none\" stroke=\"black\"/>\n",
       "<polygon fill=\"black\" points=\"59.0001,-192.529 55.5,-182.529 52.0001,-192.529 59.0001,-192.529\" stroke=\"black\"/>\n",
       "</g>\n",
       "</g>\n",
       "</svg>"
      ],
      "text/plain": [
       "<IPython.core.display.SVG object>"
      ]
     },
     "execution_count": 26,
     "metadata": {},
     "output_type": "execute_result"
    }
   ],
   "source": [
    "from IPython.display import SVG\n",
    "from keras.utils.vis_utils import model_to_dot\n",
    "SVG(model_to_dot(model).create(prog='dot', format='svg'))"
   ]
  },
  {
   "cell_type": "code",
   "execution_count": 27,
   "metadata": {},
   "outputs": [
    {
     "data": {
      "text/plain": [
       "<matplotlib.legend.Legend at 0x1fa9fa616a0>"
      ]
     },
     "execution_count": 27,
     "metadata": {},
     "output_type": "execute_result"
    },
    {
     "data": {
      "image/png": "[encoded data removed]",
      "text/plain": [
       "<Figure size 432x288 with 1 Axes>"
      ]
     },
     "metadata": {
      "needs_background": "light"
     },
     "output_type": "display_data"
    }
   ],
   "source": [
    "plt.plot(history.history['loss'])\n",
    "plt.plot(history.history['val_loss'])\n",
    "plt.title('Loss')\n",
    "plt.xlabel('epoch')\n",
    "plt.legend(['loss','val_loss'])"
   ]
  },
  {
   "cell_type": "code",
   "execution_count": 28,
   "metadata": {},
   "outputs": [
    {
     "data": {
      "text/plain": [
       "<matplotlib.legend.Legend at 0x1fa9fb380b8>"
      ]
     },
     "execution_count": 28,
     "metadata": {},
     "output_type": "execute_result"
    },
    {
     "data": {
      "image/png": "[encoded data removed]",
      "text/plain": [
       "<Figure size 432x288 with 1 Axes>"
      ]
     },
     "metadata": {
      "needs_background": "light"
     },
     "output_type": "display_data"
    }
   ],
   "source": [
    "plt.plot(history.history['acc'])\n",
    "plt.plot(history.history['val_acc'])\n",
    "plt.title('Validation Accuracy')\n",
    "plt.xlabel('epoch')\n",
    "plt.legend(['acc','val_acc'])"
   ]
  },
  {
   "cell_type": "code",
   "execution_count": 29,
   "metadata": {},
   "outputs": [],
   "source": [
    "pred_y = model.predict_classes(x_test)"
   ]
  },
  {
   "cell_type": "code",
   "execution_count": 30,
   "metadata": {},
   "outputs": [
    {
     "data": {
      "text/plain": [
       "0.9746"
      ]
     },
     "execution_count": 30,
     "metadata": {},
     "output_type": "execute_result"
    }
   ],
   "source": [
    "(y_test.argmax(axis=1) == pred_y).mean() # accuracy for test data"
   ]
  },
  {
   "cell_type": "code",
   "execution_count": 31,
   "metadata": {},
   "outputs": [],
   "source": [
    "idx = np.where((y_test.argmax(axis=1) != pred_y))[0]"
   ]
  },
  {
   "cell_type": "code",
   "execution_count": 32,
   "metadata": {},
   "outputs": [
    {
     "data": {
      "text/plain": [
       "Text(0.5, 1.0, '3 / 8')"
      ]
     },
     "execution_count": 32,
     "metadata": {},
     "output_type": "execute_result"
    },
    {
     "data": {
      "image/png": "[encoded data removed]",
      "text/plain": [
       "<Figure size 432x288 with 1 Axes>"
      ]
     },
     "metadata": {
      "needs_background": "light"
     },
     "output_type": "display_data"
    }
   ],
   "source": [
    "plt.imshow(x_test[idx[0]].reshape(28,28), cmap='gray')\n",
    "plt.title(str(y_test[idx[0]].argmax())+' / '+str(pred_y[idx[0]]), fontsize=20)"
   ]
  },
  {
   "cell_type": "code",
   "execution_count": null,
   "metadata": {},
   "outputs": [],
   "source": []
  }
 ],
 "metadata": {
  "kernelspec": {
   "display_name": "Python 3",
   "language": "python",
   "name": "python3"
  },
  "language_info": {
   "codemirror_mode": {
    "name": "ipython",
    "version": 3
   },
   "file_extension": ".py",
   "mimetype": "text/x-python",
   "name": "python",
   "nbconvert_exporter": "python",
   "pygments_lexer": "ipython3",
   "version": "3.6.8"
  }
 },
 "nbformat": 4,
 "nbformat_minor": 2
}
